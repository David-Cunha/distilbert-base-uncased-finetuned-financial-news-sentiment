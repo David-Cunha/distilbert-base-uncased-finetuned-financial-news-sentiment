{
  "nbformat": 4,
  "nbformat_minor": 0,
  "metadata": {
    "colab": {
      "provenance": [],
      "authorship_tag": "ABX9TyM/xPgeldsprQs0wjO4knDY",
      "include_colab_link": true
    },
    "kernelspec": {
      "name": "python3",
      "display_name": "Python 3"
    },
    "language_info": {
      "name": "python"
    }
  },
  "cells": [
    {
      "cell_type": "markdown",
      "metadata": {
        "id": "view-in-github",
        "colab_type": "text"
      },
      "source": [
        "<a href=\"https://colab.research.google.com/github/David-Cunha/distilbert-base-uncased-finetuned-financial-news-sentiment/blob/main/Fine_tuning.ipynb\" target=\"_parent\"><img src=\"https://colab.research.google.com/assets/colab-badge.svg\" alt=\"Open In Colab\"/></a>"
      ]
    },
    {
      "cell_type": "code",
      "source": [
        "# Instala as bibliotecas para manipulação de dados, acesso ao Hugging Face,\n",
        "# modelos de transformers, criação de datasets e busca vetorial.\n",
        "!pip install -q \\\n",
        "    kaggle \\\n",
        "    pandas \\\n",
        "    transformers[torch] \\\n",
        "    datasets \\\n",
        "    faiss-cpu \\\n",
        "    sentence-transformers \\\n",
        "    huggingface_hub \\\n",
        "    accelerate \\\n",
        "    evaluate"
      ],
      "metadata": {
        "id": "47dtWwU0j6r8"
      },
      "execution_count": null,
      "outputs": []
    },
    {
      "cell_type": "code",
      "source": [
        "!pip install -q --upgrade transformers>=4.35.0\n",
        "!pip install -q --upgrade accelerate"
      ],
      "metadata": {
        "id": "fPRrrifvpH10"
      },
      "execution_count": null,
      "outputs": []
    },
    {
      "cell_type": "code",
      "source": [
        "# @title Configuração das Variáveis de Ambiente e Autenticação\n",
        "import os\n",
        "from google.colab import userdata\n",
        "\n",
        "# Configura as variáveis de ambiente para a API do Kaggle\n",
        "# Isso permite que a biblioteca do Kaggle autentique e baixe datasets.\n",
        "os.environ['KAGGLE_USERNAME'] = userdata.get('KAGGLE_USERNAME')\n",
        "os.environ['KAGGLE_KEY'] = userdata.get('KAGGLE_KEY')\n",
        "\n",
        "# Recupera o token do Hugging Face para login posterior\n",
        "# Este token permitirá o upload do nosso modelo fine-tunado.\n",
        "HUGGINGFACE_TOKEN = userdata.get('HUGGINGFACE_HUB_TOKEN')\n",
        "\n",
        "print(\"Variáveis de ambiente configuradas com sucesso!\")"
      ],
      "metadata": {
        "id": "7sh88Cytomvu"
      },
      "execution_count": null,
      "outputs": []
    },
    {
      "cell_type": "code",
      "source": [
        "# @title Download e extração do dataset para Fine-Tuning\n",
        "# Dataset: Sentiment Analysis for Financial News (https://www.kaggle.com/datasets/ankurzing/sentiment-analysis-for-financial-news)\n",
        "!kaggle datasets download -d ankurzing/sentiment-analysis-for-financial-news -p ./data/\n",
        "!unzip -q -o ./data/sentiment-analysis-for-financial-news.zip -d ./data/\n",
        "print(\"Dataset de notícias financeiras baixado e extraído com sucesso!\")"
      ],
      "metadata": {
        "id": "bAFh-FImn5-_"
      },
      "execution_count": null,
      "outputs": []
    },
    {
      "cell_type": "code",
      "source": [
        "# @title Carregamento e pré-processamento dos dados\n",
        "import faiss\n",
        "import numpy as np\n",
        "import pandas as pd\n",
        "from datasets import load_dataset\n",
        "from sentence_transformers import SentenceTransformer\n",
        "from datasets import Dataset, DatasetDict\n",
        "from transformers import AutoTokenizer\n",
        "\n",
        "# Carrega o dataset e renomeia as colunas para um formato mais padrão\n",
        "df_sentiment = pd.read_csv(\n",
        "    './data/all-data.csv',\n",
        "    encoding='latin-1',\n",
        "    header=None,\n",
        "    names=['sentiment', 'text']\n",
        ")\n",
        "\n",
        "# Mapeia os sentimentos (strings) para IDs numéricos (inteiros)\n",
        "labels_map = {'neutral': 0, 'positive': 1, 'negative': 2}\n",
        "df_sentiment['label'] = df_sentiment['sentiment'].map(labels_map)\n",
        "\n",
        "# Remove a coluna de texto original\n",
        "df_sentiment = df_sentiment.drop(columns=['sentiment'])\n",
        "\n",
        "# Converte o DataFrame do Pandas para um objeto Dataset da biblioteca `datasets`\n",
        "dataset = Dataset.from_pandas(df_sentiment)\n",
        "\n",
        "# Divide o dataset em 80% para treino e 20% para teste\n",
        "train_test_split = dataset.train_test_split(test_size=0.2, shuffle=True, seed=42)\n",
        "dataset_dict = DatasetDict({\n",
        "    'train': train_test_split['train'],\n",
        "    'test': train_test_split['test']\n",
        "})\n",
        "\n",
        "# Carrega o tokenizador do modelo que vamos usar\n",
        "# 'distilbert-base-uncased' é um modelo leve e eficaz, ótimo para fine-tuning rápido.\n",
        "model_name = \"distilbert-base-uncased\"\n",
        "tokenizer = AutoTokenizer.from_pretrained(model_name)\n",
        "\n",
        "# Função para tokenizar o texto\n",
        "def tokenize_function(examples):\n",
        "    return tokenizer(examples['text'], padding='max_length', truncation=True)\n",
        "\n",
        "# Aplica a tokenização a todo o dataset de forma eficiente\n",
        "tokenized_datasets = dataset_dict.map(tokenize_function, batched=True)\n",
        "\n",
        "print(\"Estrutura do dataset tokenizado:\")\n",
        "print(tokenized_datasets)"
      ],
      "metadata": {
        "id": "59M2UKQroweu"
      },
      "execution_count": null,
      "outputs": []
    },
    {
      "cell_type": "code",
      "source": [
        "# @title Treinamento do modelo\n",
        "import numpy as np\n",
        "import evaluate\n",
        "from transformers import AutoModelForSequenceClassification, TrainingArguments, Trainer\n",
        "\n",
        "# Carrega o modelo pré-treinado, especificando o número de rótulos da nossa tarefa\n",
        "model = AutoModelForSequenceClassification.from_pretrained(\n",
        "    model_name,\n",
        "    num_labels=len(labels_map),\n",
        "    id2label={v: k for k, v in labels_map.items()}, # Mapeamento reverso para visualização\n",
        "    label2id=labels_map\n",
        ")\n",
        "\n",
        "# Define os argumentos de treinamento\n",
        "# Estes são os hiperparâmetros do nosso treinamento\n",
        "training_args = TrainingArguments(\n",
        "    output_dir=\"distilbert-sentiment-finetuned\",\n",
        "    learning_rate=2e-5,\n",
        "    per_device_train_batch_size=16,\n",
        "    per_device_eval_batch_size=16,\n",
        "    num_train_epochs=2, # Apenas 2 épocas para um treinamento rápido\n",
        "    weight_decay=0.01,\n",
        "    eval_strategy=\"epoch\",\n",
        "    save_strategy=\"epoch\",\n",
        "    load_best_model_at_end=True,\n",
        "    push_to_hub=False,\n",
        "    report_to=\"none\",\n",
        ")\n",
        "\n",
        "# Define a métrica de avaliação (acurácia)\n",
        "metric = evaluate.load(\"accuracy\")\n",
        "\n",
        "def compute_metrics(eval_pred):\n",
        "    logits, labels = eval_pred\n",
        "    predictions = np.argmax(logits, axis=-1)\n",
        "    return metric.compute(predictions=predictions, references=labels)\n",
        "\n",
        "# Cria a instância do Trainer\n",
        "trainer = Trainer(\n",
        "    model=model,\n",
        "    args=training_args,\n",
        "    train_dataset=tokenized_datasets[\"train\"],\n",
        "    eval_dataset=tokenized_datasets[\"test\"],\n",
        "    tokenizer=tokenizer,\n",
        "    compute_metrics=compute_metrics,\n",
        ")\n",
        "\n",
        "# Inicia o treinamento\n",
        "print(\"Iniciando o fine-tuning...\")\n",
        "trainer.train()\n",
        "print(\"Treinamento concluído!\")"
      ],
      "metadata": {
        "id": "vNjU2sqvoztk"
      },
      "execution_count": null,
      "outputs": []
    },
    {
      "cell_type": "code",
      "source": [
        "# @title Avaliação do modelo no conjunto de teste\n",
        "eval_results = trainer.evaluate()\n",
        "\n",
        "print(\"\\nResultados da avaliação no conjunto de teste:\")\n",
        "print(f\"Acurácia: {eval_results['eval_accuracy']:.4f}\")\n",
        "print(f\"Loss: {eval_results['eval_loss']:.4f}\")"
      ],
      "metadata": {
        "id": "t8eBTJSHIbDB"
      },
      "execution_count": null,
      "outputs": []
    },
    {
      "cell_type": "code",
      "source": [
        "# @title Login no Hugging Face Hub e publicação do modelo\n",
        "from huggingface_hub import HfApi, HfFolder, login\n",
        "\n",
        "# Faz o login programaticamente usando o token salvo\n",
        "login(token=HUGGINGFACE_TOKEN)\n",
        "\n",
        "# Define o nome do repositório no Hub\n",
        "# É uma boa prática incluir seu nome de usuário para evitar conflitos\n",
        "hub_username = HfApi().whoami()['name']\n",
        "repo_name = f\"{hub_username}/distilbert-finetuned-sentiment-financial-news\"\n",
        "\n",
        "print(f\"Preparando para enviar o modelo para: {repo_name}\")\n",
        "\n",
        "# Envia o modelo e o tokenizador para o Hub\n",
        "# A função `push_to_hub` cria o repositório se ele não existir\n",
        "trainer.push_to_hub(repo_name, commit_message=\"Primeiro commit do modelo treinado\")\n",
        "\n",
        "print(\"\\nModelo enviado com sucesso para o Hugging Face Hub!\")\n",
        "print(f\"Você pode encontrá-lo em: https://huggingface.co/{repo_name}\")"
      ],
      "metadata": {
        "id": "lFmQmjccId4u"
      },
      "execution_count": null,
      "outputs": []
    }
  ]
}